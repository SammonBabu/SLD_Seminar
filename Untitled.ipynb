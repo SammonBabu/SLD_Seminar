{
 "cells": [
  {
   "cell_type": "code",
   "execution_count": 1,
   "id": "37d4333d",
   "metadata": {},
   "outputs": [
    {
     "name": "stdout",
     "output_type": "stream",
     "text": [
      "Defaulting to user installation because normal site-packages is not writeable\n",
      "Collecting pyttsx3\n",
      "  Downloading pyttsx3-2.90-py3-none-any.whl (39 kB)\n",
      "Requirement already satisfied: pywin32 in c:\\users\\asus\\appdata\\roaming\\python\\python310\\site-packages (from pyttsx3) (304)\n",
      "Collecting pypiwin32\n",
      "  Downloading pypiwin32-223-py3-none-any.whl (1.7 kB)\n",
      "Collecting comtypes\n",
      "  Downloading comtypes-1.1.11-py2.py3-none-any.whl (167 kB)\n",
      "     ------------------------------------ 167.4/167.4 kB 835.9 kB/s eta 0:00:00\n",
      "Installing collected packages: comtypes, pypiwin32, pyttsx3\n",
      "Successfully installed comtypes-1.1.11 pypiwin32-223 pyttsx3-2.90\n"
     ]
    }
   ],
   "source": [
    "!pip install pyttsx3"
   ]
  },
  {
   "cell_type": "code",
   "execution_count": 11,
   "id": "107e9cb9",
   "metadata": {},
   "outputs": [],
   "source": [
    "list = ['sam','mon','house is good']"
   ]
  },
  {
   "cell_type": "code",
   "execution_count": 10,
   "id": "e01afaac",
   "metadata": {},
   "outputs": [],
   "source": [
    "import pyttsx3\n",
    "pyobj = pyttsx3.init()\n",
    "def chumma(list):\n",
    "    pyobj.say(list[-1])\n",
    "    pyobj.runAndWait()"
   ]
  },
  {
   "cell_type": "code",
   "execution_count": 12,
   "id": "4501cd9a",
   "metadata": {},
   "outputs": [],
   "source": [
    "chumma(list)"
   ]
  },
  {
   "cell_type": "code",
   "execution_count": null,
   "id": "3e47d050",
   "metadata": {},
   "outputs": [],
   "source": []
  },
  {
   "cell_type": "code",
   "execution_count": null,
   "id": "9c17b818",
   "metadata": {},
   "outputs": [],
   "source": []
  }
 ],
 "metadata": {
  "kernelspec": {
   "display_name": "Python 3 (ipykernel)",
   "language": "python",
   "name": "python3"
  },
  "language_info": {
   "codemirror_mode": {
    "name": "ipython",
    "version": 3
   },
   "file_extension": ".py",
   "mimetype": "text/x-python",
   "name": "python",
   "nbconvert_exporter": "python",
   "pygments_lexer": "ipython3",
   "version": "3.10.4"
  }
 },
 "nbformat": 4,
 "nbformat_minor": 5
}
